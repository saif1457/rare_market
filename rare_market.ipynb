{
 "cells": [
  {
   "cell_type": "code",
   "execution_count": 1,
   "metadata": {},
   "outputs": [],
   "source": [
    "from functools import wraps\n",
    "import random \n",
    "import numpy as np"
   ]
  },
  {
   "cell_type": "code",
   "execution_count": 52,
   "metadata": {},
   "outputs": [
    {
     "data": {
      "text/plain": [
       "'a smartly wrapped up box of a nicely wrapped up box of shiny new Dynamite'"
      ]
     },
     "execution_count": 52,
     "metadata": {},
     "output_type": "execute_result"
    }
   ],
   "source": [
    "def addstyle(style):\n",
    "    def addwrap(item):\n",
    "        @wraps(item)\n",
    "        def wrapped_item():\n",
    "            return 'a {} wrapped up box of {}'.format(style,str(item()))\n",
    "        return wrapped_item\n",
    "    return addwrap\n",
    "\n",
    "@addstyle('smartly')\n",
    "@addstyle('nicely')\n",
    "def new_gun():\n",
    "    return 'shiny new Dynamite'\n",
    "\n",
    "new_gun()"
   ]
  },
  {
   "cell_type": "markdown",
   "metadata": {},
   "source": [
    "#### Building a JIT system"
   ]
  },
  {
   "cell_type": "code",
   "execution_count": 8,
   "metadata": {},
   "outputs": [],
   "source": [
    "class Factory(object):\n",
    "    '''\n",
    "    Factory class holds the company's industry arm functions and data.\n",
    "    '''\n",
    "    def __init__(self, passed_dict):\n",
    "        self.passed_dict = passed_dict.copy()\n",
    "        self.unpack_dict()\n",
    "    \n",
    "    def unpack_dict(self):\n",
    "        for key, value in self.passed_dict.items():\n",
    "#             setattr(self, key, value)\n",
    "            self.passed_dict[key] = value\n",
    "    def \n",
    "        "
   ]
  },
  {
   "cell_type": "code",
   "execution_count": 32,
   "metadata": {},
   "outputs": [
    {
     "data": {
      "text/plain": [
       "{'Guuci': 34,\n",
       " 'Fendi': 22,\n",
       " 'Prada': 55,\n",
       " 'Louis Vitton': 38,\n",
       " 'Cartier': 94,\n",
       " 'Yves Saint-Lauren': 54}"
      ]
     },
     "execution_count": 32,
     "metadata": {},
     "output_type": "execute_result"
    }
   ],
   "source": [
    "manufacturers = ['Guuci','Fendi','Prada','Louis Vitton','Cartier','Yves Saint-Lauren']\n",
    "stock = [random.randint(0,100) for i in range(len(manufacturers))]\n",
    "\n",
    "factory_holdings = dict(zip(manufacturers,stock))\n",
    "factory_holdings"
   ]
  },
  {
   "cell_type": "markdown",
   "metadata": {},
   "source": [
    "`topshop` will serve as our high-end manufacturer."
   ]
  },
  {
   "cell_type": "code",
   "execution_count": 33,
   "metadata": {},
   "outputs": [],
   "source": [
    "topshop = Factory(factory_holdings)"
   ]
  },
  {
   "cell_type": "code",
   "execution_count": 49,
   "metadata": {},
   "outputs": [],
   "source": [
    "random.seed(308)\n",
    "def compute_value(brand,rare_ind):\n",
    "    '''\n",
    "    Take brand, check against a list and return an economic value (randomly)\n",
    "    '''\n",
    "    if (brand in manufacturers) & rare_ind: return random.randint(100,200)\n",
    "    elif (brand in manufacturers): return random.randint(1,100)"
   ]
  },
  {
   "cell_type": "code",
   "execution_count": 50,
   "metadata": {},
   "outputs": [],
   "source": [
    "random.seed(308)\n",
    "mean_holdings = np.mean(list(topshop.passed_dict.values())) #compute mean\n",
    "\n",
    "rare_count = normal_count = rare_econ = normal_econ = 0\n",
    "\n",
    "for i,j in topshop.passed_dict.items():\n",
    "    if (j < mean_holdings) & (j != 0):\n",
    "        value = compute_value(i,True)\n",
    "        worth = value*j\n",
    "        rare_count += j\n",
    "        rare_econ += worth\n",
    "    elif j != 0:\n",
    "        value = compute_value(i,False)\n",
    "        worth = value*j\n",
    "        normal_count += j\n",
    "        normal_econ += worth"
   ]
  },
  {
   "cell_type": "code",
   "execution_count": 51,
   "metadata": {},
   "outputs": [
    {
     "name": "stdout",
     "output_type": "stream",
     "text": [
      "10882 12288\n"
     ]
    }
   ],
   "source": [
    "print(normal_econ,rare_econ)"
   ]
  },
  {
   "cell_type": "markdown",
   "metadata": {},
   "source": [
    "- We account for the rarity of the item, great.\n",
    "- But there's a lack of dynamics\n",
    "    - Monte Carlo Simulation could be an option for this, run the holdings 100 times and see how they perform over a small window\n",
    "    - Build in fluctuations\n",
    "    - Build a Market class\n",
    "        - Incorporate functions like `boom`, `bust`, `recession` etc"
   ]
  },
  {
   "cell_type": "code",
   "execution_count": 86,
   "metadata": {},
   "outputs": [],
   "source": [
    "class Market(object):\n",
    "    def __init__(self,base,x,y):\n",
    "        self.base = base #market start point\n",
    "        \n",
    "    def market_move(self,x,y):\n",
    "        base = self.base\n",
    "        for i in range(100):\n",
    "            base += random.randint(x,y)\n",
    "        print(base)\n",
    "        "
   ]
  },
  {
   "cell_type": "code",
   "execution_count": 87,
   "metadata": {},
   "outputs": [],
   "source": [
    "usa = Market(1000,-10,20)"
   ]
  },
  {
   "cell_type": "code",
   "execution_count": 88,
   "metadata": {},
   "outputs": [
    {
     "name": "stdout",
     "output_type": "stream",
     "text": [
      "<bound method Market.market_move of <__main__.Market object at 0x118f83198>>\n"
     ]
    }
   ],
   "source": [
    "print(usa.market_move)"
   ]
  },
  {
   "cell_type": "code",
   "execution_count": 89,
   "metadata": {},
   "outputs": [
    {
     "name": "stdout",
     "output_type": "stream",
     "text": [
      "1381\n"
     ]
    }
   ],
   "source": [
    "usa.market_move(-10,20)"
   ]
  },
  {
   "cell_type": "code",
   "execution_count": null,
   "metadata": {},
   "outputs": [],
   "source": []
  }
 ],
 "metadata": {
  "kernelspec": {
   "display_name": "Python 3",
   "language": "python",
   "name": "python3"
  },
  "language_info": {
   "codemirror_mode": {
    "name": "ipython",
    "version": 3
   },
   "file_extension": ".py",
   "mimetype": "text/x-python",
   "name": "python",
   "nbconvert_exporter": "python",
   "pygments_lexer": "ipython3",
   "version": "3.6.3"
  }
 },
 "nbformat": 4,
 "nbformat_minor": 4
}
